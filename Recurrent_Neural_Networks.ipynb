{
  "nbformat": 4,
  "nbformat_minor": 0,
  "metadata": {
    "colab": {
      "provenance": []
    },
    "kernelspec": {
      "name": "python3",
      "display_name": "Python 3"
    },
    "language_info": {
      "name": "python"
    }
  },
  "cells": [
    {
      "cell_type": "markdown",
      "source": [
        "#Problem 1 - Forward Propagation Implementation of Simple RNN"
      ],
      "metadata": {
        "id": "jmf5EkNFazH0"
      }
    },
    {
      "cell_type": "code",
      "execution_count": 19,
      "metadata": {
        "id": "4XG7xIcORF0J"
      },
      "outputs": [],
      "source": [
        "import numpy as np\n",
        "def forward(x):\n",
        "    h = np.zeros((batch_size, n_nodes))\n",
        "    for n in range(n_sequences):\n",
        "        h = np.tanh(x[:, n, :]@ w_x + h @ w_h + b)\n",
        "    return h"
      ]
    },
    {
      "cell_type": "markdown",
      "source": [
        "#Problem 2 - Experiment of forward propagation with small sequence"
      ],
      "metadata": {
        "id": "ILde-x5Tb398"
      }
    },
    {
      "cell_type": "code",
      "source": [
        "x = np.array([[[1, 2], [2, 3], [3, 4]]])/100\n",
        "w_x = np.array([[1, 3, 5, 7], [3, 5, 7, 8]])/100\n",
        "w_h = np.array([[1, 3, 5, 7], [2, 4, 6, 8], [3, 5, 7, 8], [4, 6, 8, 10]])/100\n",
        "batch_size = x.shape[0]\n",
        "n_sequences = x.shape[1]\n",
        "n_features = x.shape[2]\n",
        "n_nodes = w_x.shape[1]\n",
        "h = np.zeros((batch_size, n_nodes))\n",
        "b = np.array([1, 1, 1, 1])"
      ],
      "metadata": {
        "id": "VlMdQr6obxsi"
      },
      "execution_count": 20,
      "outputs": []
    },
    {
      "cell_type": "code",
      "source": [
        "forward(x)"
      ],
      "metadata": {
        "colab": {
          "base_uri": "https://localhost:8080/"
        },
        "id": "2ALr2ncYeFCz",
        "outputId": "c35fe617-5950-4aea-fbca-7ca45f0d11e3"
      },
      "execution_count": 21,
      "outputs": [
        {
          "output_type": "execute_result",
          "data": {
            "text/plain": [
              "array([[0.79494228, 0.81839002, 0.83939649, 0.85584174]])"
            ]
          },
          "metadata": {},
          "execution_count": 21
        }
      ]
    },
    {
      "cell_type": "markdown",
      "source": [
        "#Problem 3 - Implementation of backpropagation (Advanced Assignment)"
      ],
      "metadata": {
        "id": "GETuc8E_es69"
      }
    },
    {
      "cell_type": "code",
      "source": [
        "class SimpleInitializer:\n",
        "\n",
        "    def __init__(self, sigma):\n",
        "        self.sigma = sigma\n",
        "    \n",
        "    def W(self, n_nodes1, n_nodes2):\n",
        "        W = self.sigma * np.random.randn(n_nodes1, n_nodes2)\n",
        "        return W\n",
        "    \n",
        "    def B(self, n_nodes2):\n",
        "        B = self.sigma * np.random.randn(1, n_nodes2)\n",
        "        return B"
      ],
      "metadata": {
        "id": "CL9X52ZEeqXf"
      },
      "execution_count": 22,
      "outputs": []
    },
    {
      "cell_type": "code",
      "source": [
        "class SGD:\n",
        "\n",
        "    def __init__(self, lr):\n",
        "        self.lr = lr\n",
        "    \n",
        "    def update(seld, layer):\n",
        "        layer.Wx -= self.lr*layer.dWx\n",
        "        layer.Wh -= self.lr*layer.dWh\n",
        "        layer.B -= self.lr*layer.dB\n",
        "        return layer"
      ],
      "metadata": {
        "id": "TzLbIji0fpC4"
      },
      "execution_count": 23,
      "outputs": []
    },
    {
      "cell_type": "code",
      "source": [
        "class Tanh:\n",
        "\n",
        "    def forward(self, A):\n",
        "        self.A = A\n",
        "        Z = np.tanh(self.A)\n",
        "        return Z\n",
        "\n",
        "    def backward(self, dZ):\n",
        "        dA = dZ * (1 - np.tanh(self.A)**2)\n",
        "        return dA"
      ],
      "metadata": {
        "id": "gwAktXWsgRpj"
      },
      "execution_count": 24,
      "outputs": []
    },
    {
      "cell_type": "code",
      "source": [
        "class ScratchSimpleRNNClassifier:\n",
        "\n",
        "    def __init__(self,):\n",
        "        self.Wx = np.array([[1, 3, 5, 7], [3, 5, 7, 8]])/100\n",
        "        self.Wh = np.array([[1, 3, 5, 7], [2, 4, 6, 8], [3, 5, 7, 8], [4, 6, 8, 10]])/100\n",
        "        self.b = np.array([1, 1, 1, 1])\n",
        "        self.dB = 0\n",
        "        self.dWx = 0\n",
        "        self.dWh = 0\n",
        "        self.activator = Tanh()\n",
        "        self.optimizer = SGD(lr=0.001)\n",
        "        self.h_his = []\n",
        "\n",
        "    def forward(self, x):\n",
        "        self.x = x.copy()\n",
        "        batch_size = x.shape[0]\n",
        "        self.n_sequences = x.shape[1]\n",
        "        n_features = x.shape[2]\n",
        "        n_nodes = w_x.shape[1]\n",
        "        h = np.zeros((batch_size, n_nodes))\n",
        "        for n in range(self.n_sequences):\n",
        "            A = x[:, n, :] @ self.Wx / h @ self.Wh / self.b\n",
        "            h = self.activator.forward(A)\n",
        "            self.h_his.append(h)\n",
        "        return h\n",
        "\n",
        "    def backward(self, dh):\n",
        "        dA = self.activator.backward(dh)\n",
        "        for n in range(self.n_features)[::-1]:\n",
        "            self.dB += np.sum(dA, axis=0)\n",
        "            self.dWx += x[:, n, :].T @ dA\n",
        "            self.dWh += h[n].T @ dA\n",
        "        \n",
        "        dx = dA @ Wx\n",
        "        dh = dA @ Wh\n",
        "        return dx, dh"
      ],
      "metadata": {
        "id": "o0HcmgMRhtEI"
      },
      "execution_count": 25,
      "outputs": []
    },
    {
      "cell_type": "code",
      "source": [
        "test = ScratchSimpleRNNClassifier()\n",
        "test.forward(x)"
      ],
      "metadata": {
        "colab": {
          "base_uri": "https://localhost:8080/"
        },
        "id": "vuJDvKplyrmd",
        "outputId": "89078503-a514-4150-8c71-ea01853c811c"
      },
      "execution_count": 26,
      "outputs": [
        {
          "output_type": "stream",
          "name": "stderr",
          "text": [
            "<ipython-input-25-fcd0d154b76e>:22: RuntimeWarning: divide by zero encountered in true_divide\n",
            "  A = x[:, n, :] @ self.Wx / h @ self.Wh / self.b\n"
          ]
        },
        {
          "output_type": "execute_result",
          "data": {
            "text/plain": [
              "array([[0.53200474, 0.78317723, 0.90767003, 0.9573767 ]])"
            ]
          },
          "metadata": {},
          "execution_count": 26
        }
      ]
    }
  ]
}